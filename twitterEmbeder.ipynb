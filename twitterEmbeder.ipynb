{
 "cells": [
  {
   "cell_type": "code",
   "execution_count": 1,
   "metadata": {},
   "outputs": [],
   "source": [
    "import os\n",
    "import requests\n",
    "import json\n",
    "import time\n",
    "import tweepy\n",
    "import sys\n",
    "from dateutil import parser\n",
    "from pprint import pprint\n"
   ]
  },
  {
   "cell_type": "markdown",
   "metadata": {},
   "source": [
    "This file takes an input, probably some time of ID in the database, then calls and pulls the Twitter USer and STR_ID from the database for that tweet. Next it Calls oEmbed with a Curl request. It then parses the response for the HTML, then returns that html variable so that another file can display that variable as html"
   ]
  },
  {
   "cell_type": "code",
   "execution_count": 8,
   "metadata": {},
   "outputs": [],
   "source": [
    "# Create a curl request here created from call to database and take the output  \n",
    "rawData = requests.get('https://publish.twitter.com/oembed?url=https%3A%2F%2Ftwitter.com%2FInterior%2Fstatus%2F507185938620219395')"
   ]
  },
  {
   "cell_type": "code",
   "execution_count": 9,
   "metadata": {},
   "outputs": [
    {
     "name": "stdout",
     "output_type": "stream",
     "text": [
      "{\"url\":\"https:\\/\\/twitter.com\\/Interior\\/status\\/507185938620219395\",\"author_name\":\"US Department of the Interior\",\"author_url\":\"https:\\/\\/twitter.com\\/Interior\",\"html\":\"\\u003Cblockquote class=\\\"twitter-tweet\\\"\\u003E\\u003Cp lang=\\\"en\\\" dir=\\\"ltr\\\"\\u003EHappy 50th anniversary to the Wilderness Act! Here&#39;s a great wilderness photo from \\u003Ca href=\\\"https:\\/\\/twitter.com\\/YosemiteNPS?ref_src=twsrc%5Etfw\\\"\\u003E@YosemiteNPS\\u003C\\/a\\u003E. \\u003Ca href=\\\"https:\\/\\/twitter.com\\/hashtag\\/Wilderness50?src=hash&amp;ref_src=twsrc%5Etfw\\\"\\u003E#Wilderness50\\u003C\\/a\\u003E \\u003Ca href=\\\"http:\\/\\/t.co\\/HMhbyTg18X\\\"\\u003Epic.twitter.com\\/HMhbyTg18X\\u003C\\/a\\u003E\\u003C\\/p\\u003E&mdash; US Department of the Interior (@Interior) \\u003Ca href=\\\"https:\\/\\/twitter.com\\/Interior\\/status\\/507185938620219395?ref_src=twsrc%5Etfw\\\"\\u003ESeptember 3, 2014\\u003C\\/a\\u003E\\u003C\\/blockquote\\u003E\\n\\u003Cscript async src=\\\"https:\\/\\/platform.twitter.com\\/widgets.js\\\" charset=\\\"utf-8\\\"\\u003E\\u003C\\/script\\u003E\\n\",\"width\":550,\"height\":null,\"type\":\"rich\",\"cache_age\":\"3153600000\",\"provider_name\":\"Twitter\",\"provider_url\":\"https:\\/\\/twitter.com\",\"version\":\"1.0\"}\n"
     ]
    }
   ],
   "source": [
    "print(rawData.text)"
   ]
  },
  {
   "cell_type": "code",
   "execution_count": 5,
   "metadata": {},
   "outputs": [],
   "source": [
    "# Connect to database here to pull the information from DB for embed request Usernme and STR_ID"
   ]
  },
  {
   "cell_type": "markdown",
   "metadata": {},
   "source": [
    "Main method begins here"
   ]
  },
  {
   "cell_type": "code",
   "execution_count": null,
   "metadata": {},
   "outputs": [],
   "source": []
  }
 ],
 "metadata": {
  "kernelspec": {
   "display_name": "Python 3",
   "language": "python",
   "name": "python3"
  },
  "language_info": {
   "codemirror_mode": {
    "name": "ipython",
    "version": 3
   },
   "file_extension": ".py",
   "mimetype": "text/x-python",
   "name": "python",
   "nbconvert_exporter": "python",
   "pygments_lexer": "ipython3",
   "version": "3.8.3"
  }
 },
 "nbformat": 4,
 "nbformat_minor": 4
}
